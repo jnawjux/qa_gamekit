{
 "cells": [
  {
   "cell_type": "code",
   "execution_count": 2,
   "metadata": {},
   "outputs": [],
   "source": [
    "import pandas as pd\n",
    "\n",
    "# Imports for cdqa QA system\n",
    "from cdqa.utils.converters import pdf_converter\n",
    "from cdqa.utils.filters import filter_paragraphs\n",
    "from cdqa.utils.download import download_model\n",
    "from cdqa.pipeline.cdqa_sklearn import QAPipeline"
   ]
  },
  {
   "cell_type": "code",
   "execution_count": 3,
   "metadata": {},
   "outputs": [],
   "source": [
    "# Download model - only uncomment and run if not already downloaded\n",
    "# download_model(model='bert-squad_1.1', dir='./models')"
   ]
  },
  {
   "cell_type": "code",
   "execution_count": 6,
   "metadata": {},
   "outputs": [],
   "source": [
    "# Extract text from pdf of rules\n",
    "boardgame_df = pdf_converter(directory_path='rules/')\n",
    "boardgame_df = filter_paragraphs(boardgame_df)"
   ]
  },
  {
   "cell_type": "code",
   "execution_count": 14,
   "metadata": {},
   "outputs": [
    {
     "data": {
      "text/plain": [
       "QAPipeline(reader=BertQA(bert_model='bert-base-uncased', do_lower_case=True,\n",
       "                         fp16=False, gradient_accumulation_steps=1,\n",
       "                         learning_rate=3e-05, local_rank=-1, loss_scale=0,\n",
       "                         max_answer_length=30, n_best_size=20, no_cuda=False,\n",
       "                         null_score_diff_threshold=0.0, num_train_epochs=2,\n",
       "                         output_dir=None, predict_batch_size=8, seed=42,\n",
       "                         server_ip='', server_port='', train_batch_size=8,\n",
       "                         verbose_logging=False, version_2_with_negative=False,\n",
       "                         warmup_proportion=0.1),\n",
       "           retrieve_by_doc=False,\n",
       "           retriever=BM25Retriever(b=0.75, floor=None, k1=2.0, lowercase=True,\n",
       "                                   max_df=0.85, min_df=2, ngram_range=(1, 2),\n",
       "                                   preprocessor=None, stop_words='english',\n",
       "                                   token_pattern='(?u)\\\\b\\\\w\\\\w+\\\\b',\n",
       "                                   tokenizer=None, top_n=20, verbose=False,\n",
       "                                   vocabulary=None))"
      ]
     },
     "execution_count": 14,
     "metadata": {},
     "output_type": "execute_result"
    }
   ],
   "source": [
    "# Loading QAPipeline with CPU version of BERT Reader pretrained on SQuAD 1.1\n",
    "cdqa_pipeline = QAPipeline(reader='models/bert_qa_vCPU-sklearn.joblib')\n",
    "\n",
    "# Fitting the retriever to the list of documents in the dataframe\n",
    "cdqa_pipeline.fit_retriever(scythe_df)"
   ]
  },
  {
   "cell_type": "code",
   "execution_count": 17,
   "metadata": {},
   "outputs": [],
   "source": [
    "# Sending a question to the pipeline and getting prediction\n",
    "query = 'How do you win?'\n",
    "prediction = cdqa_pipeline.predict(query)"
   ]
  },
  {
   "cell_type": "code",
   "execution_count": 16,
   "metadata": {},
   "outputs": [
    {
     "name": "stdout",
     "output_type": "stream",
     "text": [
      "Query: What are the factions?\n",
      "\n",
      "Answer: expansion factions\n",
      "\n",
      "Paragraph: RIVERWALK: Your character and mechs can move across rivers \n",
      "onto farms and tundra.\n",
      "WAYFARE: Your character and mechs may move from a \n",
      "territory or home base to any inactive faction’s home \n",
      "base or your own regardless of the distance. An “inactive \n",
      "faction” is any faction not currently in the game, including \n",
      "the expansion factions. Normally players may not move \n",
      "into any home base, but this is an exception to that rule.\n",
      "\n"
     ]
    }
   ],
   "source": [
    "print('Query: {}\\n'.format(query))\n",
    "print('Answer: {}\\n'.format(prediction[0]))\n",
    "print('Paragraph: {}\\n'.format(prediction[2]))"
   ]
  },
  {
   "cell_type": "code",
   "execution_count": null,
   "metadata": {},
   "outputs": [],
   "source": []
  }
 ],
 "metadata": {
  "kernelspec": {
   "display_name": "Python 3",
   "language": "python",
   "name": "python3"
  },
  "language_info": {
   "codemirror_mode": {
    "name": "ipython",
    "version": 3
   },
   "file_extension": ".py",
   "mimetype": "text/x-python",
   "name": "python",
   "nbconvert_exporter": "python",
   "pygments_lexer": "ipython3",
   "version": "3.7.1"
  }
 },
 "nbformat": 4,
 "nbformat_minor": 2
}
